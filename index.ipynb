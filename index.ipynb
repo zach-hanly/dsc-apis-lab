{
 "cells": [
  {
   "cell_type": "markdown",
   "metadata": {},
   "source": [
    "# APIs - Cumulative Lab\n",
    "\n",
    "\n",
    "## Introduction \n",
    "\n",
    "We've seen how the Yelp API works and how to create basic visualizations using Folium. It's time to put those skills to work in order to create a working map! Taking things a step further, you'll also independently explore how to perform pagination in order to retrieve a full results set from the Yelp API.\n",
    "\n",
    "## Objectives\n",
    "\n",
    "You will be able to: \n",
    "\n",
    "* Practice using functions to organize your code\n",
    "* Use pagination to retrieve all results from an API query\n",
    "* Practice parsing data returned from an API query\n",
    "* Practice interpreting visualizations of a dataset\n",
    "* Create maps using Folium"
   ]
  },
  {
   "cell_type": "markdown",
   "metadata": {},
   "source": [
    "## Your Task: Query Yelp for All Businesses in a Category and Analyze the Results\n",
    "\n",
    "![restaurant counter with pizza](images/restaurant_counter.jpg)\n",
    "\n",
    "Photo by <a href=\"https://unsplash.com/@jordanmadrid?utm_source=unsplash&utm_medium=referral&utm_content=creditCopyText\">Jordan Madrid</a> on <a href=\"/s/photos/pizza-restaurant?utm_source=unsplash&utm_medium=referral&utm_content=creditCopyText\">Unsplash</a>"
   ]
  },
  {
   "cell_type": "markdown",
   "metadata": {},
   "source": [
    "### Overview\n",
    "\n",
    "You've now worked with some API calls, but we have yet to see how to retrieve a more complete dataset in a programmatic manner. In this lab, you will write a query of businesses on Yelp, then use *pagination* to retrieve all possible results for that query. Then you will create a summary of your findings, including a Folium map of the geographic locations of those businesses.\n",
    "\n",
    "### Technical Details\n",
    "\n",
    "Returning to the Yelp API, the [documentation](https://www.yelp.com/developers/documentation/v3/business_search) also provides us details regarding the **API limits**. These often include details about the number of requests a user is allowed to make within a specified time limit and the maximum number of results to be returned. In this case, we are told that any request has a **maximum of 50 results per request** and defaults to 20. Furthermore, any search will be limited to a **total of 1000 results**. To retrieve all 1000 of these results, we would have to page through the results piece by piece, retrieving 50 at a time. Processes such as these are often referred to as pagination.\n",
    "\n",
    "Also, be mindful of the **API** ***rate*** **limits**. You can only make **5000 requests per day** and are also can make requests too fast. Start prototyping small before running a loop that could be faulty. You can also use `time.sleep(n)` to add delays. For more details see https://www.yelp.com/developers/documentation/v3/rate_limiting.\n",
    "\n",
    "In this lab, you will define a search and then paginate over the results to retrieve all of the results. You'll then parse these responses as a list of dictionaries (for further exploration) and create a map using Folium to visualize the results geographically.\n",
    "\n",
    "### Requirements\n",
    "\n",
    "#### 1. Make the Initial Request\n",
    "\n",
    "Start by filling in your API key to make the initial request to the business search API. Investigate the structure of the response you get back and start figuring out how you will extract the relevant information.\n",
    "\n",
    "#### 2. Add Pagination\n",
    "\n",
    "Using loops and functions, collect the maximum number of results for your query from the API.\n",
    "\n",
    "#### 3. Perform Exploratory Analysis\n",
    "\n",
    "Interpret visualizations related to the price range, average rating, and number of reviews for all query results.\n",
    "\n",
    "#### 4. Create a Folium Map\n",
    "\n",
    "Using latitude and longitude data, plot the query results on an interactive map."
   ]
  },
  {
   "cell_type": "markdown",
   "metadata": {},
   "source": [
    "## 1. Make the Initial Request\n",
    "\n",
    "### Querying\n",
    "\n",
    "Start by making an initial request to the Yelp API. Your search must include at least 2 parameters: **term** and **location**. For example, you might search for pizza restaurants in NYC. The term and location is up to you but make the request below.\n",
    "\n",
    "Use the `requests` library ([documentation here](https://requests.readthedocs.io/en/master/user/quickstart/#make-a-request)).\n",
    "\n",
    "You'll also need an API key from Yelp. If you haven't done this already, go to the Yelp [Manage App page](https://www.yelp.com/developers/v3/manage_app) and create a new app (after making an account if you haven't already)."
   ]
  },
  {
   "cell_type": "code",
   "execution_count": 1,
   "metadata": {},
   "outputs": [],
   "source": [
    "import json\n",
    "\n",
    "#Our previous function for loading our api key file\n",
    "def get_keys(path):\n",
    "    with open(path) as f:\n",
    "        return json.load(f)"
   ]
  },
  {
   "cell_type": "code",
   "execution_count": 2,
   "metadata": {},
   "outputs": [],
   "source": [
    "keys = get_keys(\"/Users/zach/.secret/yelp_api.json\")"
   ]
  },
  {
   "cell_type": "code",
   "execution_count": 3,
   "metadata": {},
   "outputs": [
    {
     "data": {
      "text/plain": [
       "<Response [200]>"
      ]
     },
     "execution_count": 3,
     "metadata": {},
     "output_type": "execute_result"
    }
   ],
   "source": [
    "# Replace None with appropriate code\n",
    "\n",
    "# Import the requests library\n",
    "import requests \n",
    "\n",
    "# Get this from the \"Manage App\" page. Make sure you set them\n",
    "# back to None before pushing this to GitHub, since otherwise\n",
    "# your credentials will be compromised\n",
    "api_key = keys['api_key']\n",
    "\n",
    "# These can be whatever you want! But the solution uses \"pizza\"\n",
    "# and \"New York NY\" if you want to compare your work directly\n",
    "term = \"pizza\"\n",
    "location = \"New York NY\"\n",
    "\n",
    "# Set up params for request\n",
    "url = \"https://api.yelp.com/v3/businesses/search\"\n",
    "headers = {\n",
    "    \"Authorization\": \"Bearer {}\".format(api_key)\n",
    "}\n",
    "url_params = {\n",
    "    \"term\": term.replace(\" \", \"+\"),\n",
    "    \"location\": location.replace(\" \", \"+\")\n",
    "}\n",
    "\n",
    "# Make the request using requests.get, passing in\n",
    "# url, headers=headers, and params=url_params\n",
    "response = requests.get(url=url, headers=headers, params=url_params)\n",
    "\n",
    "# Confirm we got a 200 response\n",
    "response"
   ]
  },
  {
   "cell_type": "code",
   "execution_count": 4,
   "metadata": {},
   "outputs": [
    {
     "data": {
      "text/plain": [
       "dict_keys(['businesses', 'total', 'region'])"
      ]
     },
     "execution_count": 4,
     "metadata": {},
     "output_type": "execute_result"
    }
   ],
   "source": [
    "# Run this cell without changes\n",
    "\n",
    "# Get the response body in JSON format\n",
    "response_json = response.json()\n",
    "# View the keys\n",
    "response_json.keys()"
   ]
  },
  {
   "cell_type": "markdown",
   "metadata": {},
   "source": [
    "### Extracting Data\n",
    "\n",
    "Now, retrieve the value associated with the `'businesses'` key, and inspect its contents."
   ]
  },
  {
   "cell_type": "code",
   "execution_count": 59,
   "metadata": {},
   "outputs": [
    {
     "data": {
      "text/plain": [
       "[{'id': 'uSOnbiYkOgrcIF6IyBxgHg',\n",
       "  'alias': 'slice-joint-new-york',\n",
       "  'name': 'Slice Joint',\n",
       "  'image_url': 'https://s3-media2.fl.yelpcdn.com/bphoto/J7g0XXShiiTaK6ro1r5ItQ/o.jpg',\n",
       "  'is_closed': False,\n",
       "  'url': 'https://www.yelp.com/biz/slice-joint-new-york?adjust_creative=ybR22rwIdmKggPkGiRWd3w&utm_campaign=yelp_api_v3&utm_medium=api_v3_business_search&utm_source=ybR22rwIdmKggPkGiRWd3w',\n",
       "  'review_count': 12,\n",
       "  'categories': [{'alias': 'pizza', 'title': 'Pizza'}],\n",
       "  'rating': 4.5,\n",
       "  'coordinates': {'latitude': 40.71827, 'longitude': -73.98806},\n",
       "  'transactions': ['delivery', 'pickup'],\n",
       "  'location': {'address1': '115 Delancey St',\n",
       "   'address2': None,\n",
       "   'address3': '',\n",
       "   'city': 'New York',\n",
       "   'zip_code': '10002',\n",
       "   'country': 'US',\n",
       "   'state': 'NY',\n",
       "   'display_address': ['115 Delancey St', 'New York, NY 10002']},\n",
       "  'phone': '+13324560129',\n",
       "  'display_phone': '(332) 456-0129',\n",
       "  'distance': 1517.088677269159},\n",
       " {'id': 'yl5BoFbgHfrY62cLXwnCxQ',\n",
       "  'alias': 'pizza-moto-brooklyn-2',\n",
       "  'name': 'Pizza Moto',\n",
       "  'image_url': 'https://s3-media1.fl.yelpcdn.com/bphoto/kPnbudY20wUq67T7u1FVsQ/o.jpg',\n",
       "  'is_closed': False,\n",
       "  'url': 'https://www.yelp.com/biz/pizza-moto-brooklyn-2?adjust_creative=ybR22rwIdmKggPkGiRWd3w&utm_campaign=yelp_api_v3&utm_medium=api_v3_business_search&utm_source=ybR22rwIdmKggPkGiRWd3w',\n",
       "  'review_count': 210,\n",
       "  'categories': [{'alias': 'pizza', 'title': 'Pizza'},\n",
       "   {'alias': 'venues', 'title': 'Venues & Event Spaces'},\n",
       "   {'alias': 'italian', 'title': 'Italian'}],\n",
       "  'rating': 4.5,\n",
       "  'coordinates': {'latitude': 40.6746224, 'longitude': -74.0007999},\n",
       "  'transactions': ['delivery', 'pickup'],\n",
       "  'price': '$$',\n",
       "  'location': {'address1': '338 Hamilton Ave',\n",
       "   'address2': '',\n",
       "   'address3': '',\n",
       "   'city': 'Brooklyn',\n",
       "   'zip_code': '11231',\n",
       "   'country': 'US',\n",
       "   'state': 'NY',\n",
       "   'display_address': ['338 Hamilton Ave', 'Brooklyn, NY 11231']},\n",
       "  'phone': '+17188346686',\n",
       "  'display_phone': '(718) 834-6686',\n",
       "  'distance': 3470.9267183040233}]"
      ]
     },
     "execution_count": 59,
     "metadata": {},
     "output_type": "execute_result"
    }
   ],
   "source": [
    "# Replace None with appropriate code\n",
    "\n",
    "# Retrieve the value from response_json\n",
    "businesses = response_json['businesses']\n",
    "\n",
    "# View the first 2 records\n",
    "businesses[:2]"
   ]
  },
  {
   "cell_type": "markdown",
   "metadata": {},
   "source": [
    "### Preparing Data\n",
    "\n",
    "Write a function `prepare_data` that takes in a list of dictionaries like `businesses` and returns a copy that has been prepared for analysis:\n",
    "\n",
    "1. The `coordinates` key-value pair has been converted into two separate key-value pairs, `latitude` and `longitude`\n",
    "2. All other key-value pairs except for `name`, `review_count`, `rating`, and `price` have been dropped\n",
    "3. All dictionaries missing one of the relevant keys or containing null values have been dropped\n",
    "\n",
    "In other words, the final keys for each dictionary should be `name`, `review_count`, `rating`, `price`, `latitude`, and `longitude`.\n",
    "\n",
    "Complete the function in the cell below:"
   ]
  },
  {
   "cell_type": "code",
   "execution_count": 7,
   "metadata": {},
   "outputs": [
    {
     "data": {
      "text/plain": [
       "[{'name': 'Prince Street Pizza',\n",
       "  'review_count': 4015,\n",
       "  'rating': 4.5,\n",
       "  'price': '$',\n",
       "  'latitude': 40.72308755605564,\n",
       "  'longitude': -73.99453001177575},\n",
       " {'name': \"Juliana's\",\n",
       "  'review_count': 2353,\n",
       "  'rating': 4.5,\n",
       "  'price': '$$',\n",
       "  'latitude': 40.70274718768062,\n",
       "  'longitude': -73.99343490196397},\n",
       " {'name': 'Rubirosa',\n",
       "  'review_count': 2471,\n",
       "  'rating': 4.5,\n",
       "  'price': '$$',\n",
       "  'latitude': 40.722766,\n",
       "  'longitude': -73.996233},\n",
       " {'name': \"Lombardi's Pizza\",\n",
       "  'review_count': 6200,\n",
       "  'rating': 4.0,\n",
       "  'price': '$$',\n",
       "  'latitude': 40.7215934960083,\n",
       "  'longitude': -73.9955956044561},\n",
       " {'name': 'Lucali',\n",
       "  'review_count': 1723,\n",
       "  'rating': 4.0,\n",
       "  'price': '$$',\n",
       "  'latitude': 40.6818,\n",
       "  'longitude': -74.00024}]"
      ]
     },
     "execution_count": 7,
     "metadata": {},
     "output_type": "execute_result"
    }
   ],
   "source": [
    "# Replace None with appropriate code\n",
    "\n",
    "def prepare_data(data_list):\n",
    "    \"\"\"\n",
    "    This function takes in a list of dictionaries and prepares it\n",
    "    for analysis\n",
    "    \"\"\"\n",
    "    # Make a new list to hold results\n",
    "    results = []\n",
    "    \n",
    "    key_list = ['name', 'review_count', 'rating', 'price']\n",
    "    \n",
    "    # Make a new dictionary to hold prepared data for this business\n",
    "    \n",
    "    for business_data in data_list:\n",
    "        \n",
    "        # Extract name, review_count, rating, and price key-value pairs\n",
    "        # from business_data and add to prepared_data\n",
    "        # If a key is not present in business_data, add it to prepared_data\n",
    "        # with an associated value of None\n",
    "        \n",
    "        # Make a new dictionary to hold prepared data for this business\n",
    "        prepared_dict = {k:None for k in key_list}\n",
    "        \n",
    "        for k,v in business_data.items():\n",
    "            if k in prepared_dict.keys():\n",
    "                prepared_dict[k] = v\n",
    "\n",
    "        # Parse and add latitude and longitude columns\n",
    "        for k,v in business_data['coordinates'].items():\n",
    "            prepared_dict[k] = v \n",
    "        \n",
    "        # Add to list if all values are present\n",
    "        \n",
    "        results.append(prepared_dict)\n",
    "    \n",
    "    return results\n",
    "    \n",
    "# Test out function\n",
    "prepared_businesses = prepare_data(businesses)\n",
    "prepared_businesses[:5]\n"
   ]
  },
  {
   "cell_type": "markdown",
   "metadata": {},
   "source": [
    "Check that your function created the correct keys:"
   ]
  },
  {
   "cell_type": "code",
   "execution_count": 8,
   "metadata": {},
   "outputs": [],
   "source": [
    "# Run this cell without changes\n",
    "\n",
    "assert sorted(list(prepared_businesses[0].keys())) == ['latitude', 'longitude', 'name', 'price', 'rating', 'review_count']"
   ]
  },
  {
   "cell_type": "markdown",
   "metadata": {},
   "source": [
    "The following code will differ depending on your query, but we expect there to be 20 businesses in the original list, and potentially fewer in the prepared list (if any of them were missing data):"
   ]
  },
  {
   "cell_type": "code",
   "execution_count": 9,
   "metadata": {},
   "outputs": [
    {
     "name": "stdout",
     "output_type": "stream",
     "text": [
      "Original: 20\n",
      "Prepared: 20\n"
     ]
    }
   ],
   "source": [
    "# Run this cell without changes\n",
    "print(\"Original:\", len(businesses))\n",
    "print(\"Prepared:\", len(prepared_businesses))"
   ]
  },
  {
   "cell_type": "markdown",
   "metadata": {},
   "source": [
    "Great! We will reuse this function once we have retrieved the full dataset."
   ]
  },
  {
   "cell_type": "markdown",
   "metadata": {},
   "source": [
    "## 2. Add Pagination\n",
    "\n",
    "Now that you are able to extract information from one page of the response, let's figure out how to request as many pages as possible.\n",
    "\n",
    "### Determining the Total\n",
    "\n",
    "Depending on the number of total results for your query, you will either retrieve all of the results, or just the first 1000 (if there are more than 1000 total).\n",
    "\n",
    "We can find the total number of results using the `\"total\"` key:"
   ]
  },
  {
   "cell_type": "code",
   "execution_count": 10,
   "metadata": {},
   "outputs": [
    {
     "data": {
      "text/plain": [
       "240"
      ]
     },
     "execution_count": 10,
     "metadata": {},
     "output_type": "execute_result"
    }
   ],
   "source": [
    "# Run this cell without changes\n",
    "response_json[\"total\"]"
   ]
  },
  {
   "cell_type": "markdown",
   "metadata": {},
   "source": [
    "(This is specific to the implementation of the Yelp API. Some APIs will just tell you that there are more pages, or will tell you the number of pages total, rather than the total number of results. If you're not sure, always check the documentation.)\n",
    "\n",
    "In the cell below, assign the variable `total` to either the value shown above (if it is less than 1000), or 1000."
   ]
  },
  {
   "cell_type": "code",
   "execution_count": 11,
   "metadata": {},
   "outputs": [
    {
     "data": {
      "text/plain": [
       "[0, 50, 100, 150]"
      ]
     },
     "execution_count": 11,
     "metadata": {},
     "output_type": "execute_result"
    }
   ],
   "source": [
    "list(range(0,200,50))"
   ]
  },
  {
   "cell_type": "code",
   "execution_count": null,
   "metadata": {},
   "outputs": [],
   "source": [
    "# Replace None with appropriate code\n",
    "total = None"
   ]
  },
  {
   "cell_type": "code",
   "execution_count": 24,
   "metadata": {},
   "outputs": [
    {
     "data": {
      "text/plain": [
       "[0, 50, 100, 150, 200]"
      ]
     },
     "execution_count": 24,
     "metadata": {},
     "output_type": "execute_result"
    }
   ],
   "source": [
    "get_offsets(240)"
   ]
  },
  {
   "cell_type": "markdown",
   "metadata": {},
   "source": [
    "### Calculating the Offsets\n",
    "\n",
    "The documentation states in the parameters section:\n",
    "\n",
    "> **Name**: `limit`, **Type:** int, **Description:** Optional. Number of business results to return. By default, it will return 20. Maximum is 50.\n",
    "\n",
    "> **Name**: `offset`, **Type:** int, **Description:** Optional. Offset the list of returned business results by this amount.\n",
    "\n",
    "So, to get the most results with the fewest API calls we want to set a limit of 50 every time. If, say, we wanted to get 210 total results, that would mean:\n",
    "\n",
    "1. Offset of `0` (first 50 records)\n",
    "2. Offset of `50` (second 50 records)\n",
    "3. Offset of `100` (third 50 records)\n",
    "4. Offset of `150` (fourth 50 records)\n",
    "5. Offset of `200` (final 10 records)\n",
    "\n",
    "In the cell below, create a function `get_offsets` that takes in a total and returns a list of offsets for that total. You can assume that there is a limit of 50 every time.\n",
    "\n",
    "*Hint: you can use `range` ([documentation here](https://docs.python.org/3.3/library/stdtypes.html?highlight=range#range)) to do this in one line of code. Just make the returned result is a list.*"
   ]
  },
  {
   "cell_type": "code",
   "execution_count": 12,
   "metadata": {},
   "outputs": [],
   "source": [
    "# Replace None with appropriate code\n",
    "def get_offsets(total):\n",
    "    \"\"\"\n",
    "    Get a list of offsets needed to get all pages\n",
    "    of data up until the total\n",
    "    \"\"\"\n",
    "    offsets = list(range(0,total,50))\n",
    "    return offsets"
   ]
  },
  {
   "cell_type": "markdown",
   "metadata": {},
   "source": [
    "Check that your function works below:"
   ]
  },
  {
   "cell_type": "code",
   "execution_count": 13,
   "metadata": {},
   "outputs": [],
   "source": [
    "# Run this cell without changes\n",
    "\n",
    "assert get_offsets(200) == [0, 50, 100, 150]\n",
    "assert get_offsets(210) == [0, 50, 100, 150, 200]"
   ]
  },
  {
   "cell_type": "markdown",
   "metadata": {},
   "source": [
    "### Putting It All Together\n",
    "\n",
    "Recall that the following variable has already been declared for you:"
   ]
  },
  {
   "cell_type": "code",
   "execution_count": 14,
   "metadata": {},
   "outputs": [
    {
     "data": {
      "text/plain": [
       "{'term': 'pizza', 'location': 'New+York+NY'}"
      ]
     },
     "execution_count": 14,
     "metadata": {},
     "output_type": "execute_result"
    }
   ],
   "source": [
    "# Run this cell without changes\n",
    "url_params"
   ]
  },
  {
   "cell_type": "markdown",
   "metadata": {},
   "source": [
    "We'll go ahead and also specify that the limit should be 50 every time:"
   ]
  },
  {
   "cell_type": "code",
   "execution_count": 15,
   "metadata": {},
   "outputs": [],
   "source": [
    "# Run this cell without changes\n",
    "url_params[\"limit\"] = 50"
   ]
  },
  {
   "cell_type": "markdown",
   "metadata": {},
   "source": [
    "In order to modify the offset, you'll need to add it to `url_params` with the key `\"offset\"` and whatever value is needed.\n",
    "\n",
    "In the cell below, write code that:\n",
    "\n",
    "* Creates an empty list for the full prepared dataset\n",
    "* Loops over all of the offsets from `get_offsets` and makes an API call each time with the specified offset\n",
    "* Calls `prepare_data` to get a cleaned version of the result of each API call\n",
    "* Extends the full prepared dataset list with each query's prepared dataset"
   ]
  },
  {
   "cell_type": "code",
   "execution_count": null,
   "metadata": {},
   "outputs": [],
   "source": [
    "# Replace None with appropriate code\n",
    "\n",
    "# Create an empty list for the full prepared dataset\n",
    "full_dataset = []\n",
    "\n",
    "for offset in get_offsets(200):\n",
    "    # Add or update the \"offset\" key-value pair in url_params\n",
    "    url_params['offset'] = offset\n",
    "    \n",
    "    # Make the query and get the response\n",
    "    response = requests.get(url, headers=headers, params=url_params)\n",
    "    \n",
    "    # Get the response body in JSON format\n",
    "    response_json = response.json()\n",
    "    \n",
    "    \n",
    "#     print(response_json.keys())\n",
    "    # Get the list of businesses from the response_json\n",
    "    businesses = response_json['businesses']\n",
    "#     print(type(businesses[0]))\n",
    "    # Call the prepare_data function to get a list of processed data\n",
    "    prepared_businesses = prepare_data(businesses)\n",
    "    \n",
    "    # Extend full_dataset with this list (don't append, or you'll get\n",
    "    # a list of lists instead of a flat list)\n",
    "    full_dataset.extend(prepared_businesses)\n",
    "\n",
    "# Check the length of the full dataset. It will be up to `total`,\n",
    "# potentially less if there were missing values\n",
    "len(full_dataset)"
   ]
  },
  {
   "cell_type": "markdown",
   "metadata": {},
   "source": [
    "This code may take up to a few minutes to run.\n",
    "\n",
    "If you get an error trying to get the response body in JSON format, try adding `time.sleep(1)` right after the `requests.get` line, so your code will sleep for 1 second between each API call."
   ]
  },
  {
   "cell_type": "markdown",
   "metadata": {},
   "source": [
    "## 3. Perform Exploratory Analysis\n",
    "\n",
    "Take the businesses from the previous question and do an initial exploratory analysis. We have provided some plots for you to interpret:"
   ]
  },
  {
   "cell_type": "code",
   "execution_count": 66,
   "metadata": {},
   "outputs": [
    {
     "data": {
      "image/png": "[encoded data removed]",
      "text/plain": [
       "<Figure size 1152x360 with 3 Axes>"
      ]
     },
     "metadata": {
      "needs_background": "light"
     },
     "output_type": "display_data"
    }
   ],
   "source": [
    "# Run this cell without changes\n",
    "import pandas as pd\n",
    "from collections import Counter\n",
    "import matplotlib.pyplot as plt\n",
    "%matplotlib inline\n",
    "\n",
    "fig, (ax1, ax2, ax3) = plt.subplots(ncols=3, figsize=(16, 5))\n",
    "\n",
    "# Plot distribution of number of reviews\n",
    "all_review_counts = [x[\"review_count\"] for x in full_dataset]\n",
    "ax1.hist(all_review_counts)\n",
    "ax1.set_title(\"Review Count Distribution\")\n",
    "ax1.set_xlabel(\"Number of Reviews\")\n",
    "ax1.set_ylabel(\"Number of Businesses\")\n",
    "\n",
    "# Plot rating distribution\n",
    "all_ratings = [x[\"rating\"] for x in full_dataset]\n",
    "rating_counter = Counter(all_ratings)\n",
    "rating_keys = sorted(rating_counter.keys())\n",
    "ax2.bar(rating_keys, [rating_counter[key] for key in rating_keys])\n",
    "ax2.set_title(\"Rating Distribution\")\n",
    "ax2.set_xlabel(\"Rating\")\n",
    "ax2.set_ylabel(\"Number of Businesses\")\n",
    "\n",
    "\n",
    "all_prices = [len(x[\"price\"]) for x in full_dataset if x['price'] != None]\n",
    "price_counter = pd.Series(all_prices).value_counts()\n",
    "ax3.bar(price_counter.index, price_counter.values)\n",
    "ax3.set_xticks([1,2,3])\n",
    "ax3.set_title(\"Price Distribution\")\n",
    "ax3.set_xlabel(\"Price Category\")\n",
    "ax3.set_ylabel(\"Number of Businesses\");"
   ]
  },
  {
   "cell_type": "markdown",
   "metadata": {},
   "source": [
    "Describe the distributions displayed above and interpret them in the context of your query. (Your answer may differ from the solution branch depending on your query.)"
   ]
  },
  {
   "cell_type": "code",
   "execution_count": 67,
   "metadata": {},
   "outputs": [
    {
     "data": {
      "text/plain": [
       "\"\\nmost of the businesses in this query are of price category '$$'. \\n\""
      ]
     },
     "execution_count": 67,
     "metadata": {},
     "output_type": "execute_result"
    }
   ],
   "source": [
    "# Replace None with appropriate text\n",
    "\"\"\"\n",
    "most of the businesses in this query are of price category '$$'. \n",
    "\"\"\""
   ]
  },
  {
   "cell_type": "markdown",
   "metadata": {},
   "source": [
    "In the cell below, we also plot the rating distributions by price. In this setup, a price of one dollar sign is \"lower price\" and everything else is \"higher price\"."
   ]
  },
  {
   "cell_type": "code",
   "execution_count": 68,
   "metadata": {},
   "outputs": [
    {
     "data": {
      "image/png": "[encoded data removed]",
      "text/plain": [
       "<Figure size 432x288 with 1 Axes>"
      ]
     },
     "metadata": {
      "needs_background": "light"
     },
     "output_type": "display_data"
    }
   ],
   "source": [
    "# Run this cell without changes\n",
    "\n",
    "higher_price = []\n",
    "lower_price = []\n",
    "for row in full_dataset:\n",
    "    if row[\"price\"] == \"$\":\n",
    "        lower_price.append(row[\"rating\"])\n",
    "    else:\n",
    "        higher_price.append(row[\"rating\"])\n",
    "        \n",
    "fig, ax = plt.subplots()\n",
    "\n",
    "ax.hist([higher_price, lower_price], label=[\"higher price\", \"lower price\"], density=True)\n",
    "\n",
    "ax.legend();"
   ]
  },
  {
   "cell_type": "markdown",
   "metadata": {},
   "source": [
    "Is a higher price associated with a higher rating? (No need for any additional math/statistics, just interpret what you see in the plot.)"
   ]
  },
  {
   "cell_type": "code",
   "execution_count": 69,
   "metadata": {},
   "outputs": [
    {
     "data": {
      "text/plain": [
       "'\\nlower priced restaurants are skewed towards higher rating than higher priced restaurants\\n'"
      ]
     },
     "execution_count": 69,
     "metadata": {},
     "output_type": "execute_result"
    }
   ],
   "source": [
    "# Replace None with appropriate text\n",
    "\"\"\"\n",
    "lower priced restaurants are skewed towards higher rating than higher priced restaurants\n",
    "\"\"\""
   ]
  },
  {
   "cell_type": "markdown",
   "metadata": {},
   "source": [
    "Finally, let's look at ratings vs. review counts:"
   ]
  },
  {
   "cell_type": "code",
   "execution_count": 70,
   "metadata": {},
   "outputs": [
    {
     "data": {
      "image/png": "[encoded data removed]",
      "text/plain": [
       "<Figure size 1152x360 with 1 Axes>"
      ]
     },
     "metadata": {
      "needs_background": "light"
     },
     "output_type": "display_data"
    }
   ],
   "source": [
    "# Run this cell without changes\n",
    "fig, ax = plt.subplots(figsize=(16,5))\n",
    "\n",
    "ax.scatter(all_review_counts, all_ratings, alpha=0.2)\n",
    "ax.set_xlabel(\"Number of Reviews\")\n",
    "ax.set_ylabel(\"Rating\")\n",
    "# \"zoom in\" to a subset of review counts\n",
    "ax.set_xlim(left=0, right=1000);"
   ]
  },
  {
   "cell_type": "markdown",
   "metadata": {},
   "source": [
    "Is a higher number of reviews associated with a higher rating?"
   ]
  },
  {
   "cell_type": "code",
   "execution_count": null,
   "metadata": {},
   "outputs": [],
   "source": [
    "# Replace None with appropriate text\n",
    "\"\"\"\n",
    "there is no correlation between number of reviews and rating \n",
    "\"\"\""
   ]
  },
  {
   "cell_type": "markdown",
   "metadata": {},
   "source": [
    "## 4. Create a Folium Map\n",
    "\n",
    "Make a map using Folium of the businesses you retrieved. Be sure to also add popups to the markers giving some basic information such as name, rating and price.\n",
    "\n",
    "You can center the map around the latitude and longitude of the first item in `full_dataset`."
   ]
  },
  {
   "cell_type": "code",
   "execution_count": 71,
   "metadata": {},
   "outputs": [
    {
     "data": {
      "text/plain": [
       "{'name': 'Prince Street Pizza',\n",
       " 'review_count': 4015,\n",
       " 'rating': 4.5,\n",
       " 'price': '$',\n",
       " 'latitude': 40.72308755605564,\n",
       " 'longitude': -73.99453001177575}"
      ]
     },
     "execution_count": 71,
     "metadata": {},
     "output_type": "execute_result"
    }
   ],
   "source": [
    "full_dataset[0]"
   ]
  },
  {
   "cell_type": "code",
   "execution_count": 72,
   "metadata": {},
   "outputs": [
    {
     "data": {
      "text/html": [
       "<div style=\"width:100%;\"><div style=\"position:relative;width:100%;height:0;padding-bottom:60%;\"><span style=\"color:#565656\">Make this Notebook Trusted to load map: File -> Trust Notebook</span><iframe src=\"about:blank\" style=\"position:absolute;width:100%;height:100%;left:0;top:0;border:none !important;\" data-html=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 onload=\"this.contentDocument.open();this.contentDocument.write(atob(this.getAttribute('data-html')));this.contentDocument.close();\" allowfullscreen webkitallowfullscreen mozallowfullscreen></iframe></div></div>"
      ],
      "text/plain": [
       "<folium.folium.Map at 0x7fdd68396490>"
      ]
     },
     "execution_count": 72,
     "metadata": {},
     "output_type": "execute_result"
    }
   ],
   "source": [
    "# Replace None with appropriate code\n",
    "\n",
    "# Import the library\n",
    "import folium\n",
    "\n",
    "# Set up center latitude and longitude\n",
    "center_lat = 40.71\n",
    "center_long = -74\n",
    "\n",
    "# Initialize map with center lat and long\n",
    "yelp_map = folium.Map([center_lat, center_long], zoom_start=13)\n",
    "\n",
    "# Adjust this limit to see more or fewer businesses\n",
    "limit=100\n",
    "\n",
    "for business in full_dataset[:limit]:\n",
    "    # Extract information about business\n",
    "    lat = business['latitude']\n",
    "    long = business['longitude']\n",
    "    name = business['name']\n",
    "    rating = business['rating']\n",
    "    price = business['price']\n",
    "    details = \"{}\\nPrice: {} Rating:{}\".format(name,price,rating)\n",
    "    \n",
    "    # Create popup with relevant details\n",
    "    popup_text = \"Latitude: {}, Longitude: {}\".format(lat,long)\n",
    "    popup = folium.Popup(popup_text, parse_html=True)\n",
    "    \n",
    "    # Create marker with relevant lat/long and popup\n",
    "    marker = folium.Marker(location=[lat, long], popup=popup)\n",
    "    \n",
    "    marker.add_to(yelp_map)\n",
    "    \n",
    "yelp_map"
   ]
  },
  {
   "cell_type": "markdown",
   "metadata": {},
   "source": [
    "## Summary\n",
    "\n",
    "Nice work! In this lab, you've made multiple API calls to Yelp in order to paginate through a results set, performing some basic exploratory analysis and then creating a nice interactive map to display the results using Folium! Well done!"
   ]
  }
 ],
 "metadata": {
  "kernelspec": {
   "display_name": "Python 3 (ipykernel)",
   "language": "python",
   "name": "python3"
  },
  "language_info": {
   "codemirror_mode": {
    "name": "ipython",
    "version": 3
   },
   "file_extension": ".py",
   "mimetype": "text/x-python",
   "name": "python",
   "nbconvert_exporter": "python",
   "pygments_lexer": "ipython3",
   "version": "3.8.5"
  },
  "toc": {
   "base_numbering": 1,
   "nav_menu": {},
   "number_sections": true,
   "sideBar": true,
   "skip_h1_title": false,
   "title_cell": "Table of Contents",
   "title_sidebar": "Contents",
   "toc_cell": false,
   "toc_position": {},
   "toc_section_display": true,
   "toc_window_display": false
  }
 },
 "nbformat": 4,
 "nbformat_minor": 4
}
